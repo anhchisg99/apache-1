{
  "nbformat": 4,
  "nbformat_minor": 0,
  "metadata": {
    "colab": {
      "provenance": [],
      "mount_file_id": "1MpLEsltAl8o2cs2rbujciCK7yDE8vJBb",
      "authorship_tag": "ABX9TyOYcmDETP11Er6RjGpq96KI",
      "include_colab_link": true
    },
    "kernelspec": {
      "name": "python3",
      "display_name": "Python 3"
    },
    "language_info": {
      "name": "python"
    }
  },
  "cells": [
    {
      "cell_type": "markdown",
      "metadata": {
        "id": "view-in-github",
        "colab_type": "text"
      },
      "source": [
        "<a href=\"https://colab.research.google.com/github/anhchisg99/apache-1/blob/main/Untitled2.ipynb\" target=\"_parent\"><img src=\"https://colab.research.google.com/assets/colab-badge.svg\" alt=\"Open In Colab\"/></a>"
      ]
    },
    {
      "cell_type": "code",
      "execution_count": 1,
      "metadata": {
        "id": "rZFv3Y6rHyjW"
      },
      "outputs": [],
      "source": [
        "import numpy as np"
      ]
    },
    {
      "cell_type": "code",
      "source": [
        "arr  = [1,2,3]\n",
        "arr2 = np.array(arr)\n",
        "print(arr2)"
      ],
      "metadata": {
        "colab": {
          "base_uri": "https://localhost:8080/"
        },
        "id": "BkOvlIlCHzlf",
        "outputId": "774364d7-ad0b-4e6f-cb75-944d7084c1b9"
      },
      "execution_count": 2,
      "outputs": [
        {
          "output_type": "stream",
          "name": "stdout",
          "text": [
            "[1 2 3]\n"
          ]
        }
      ]
    },
    {
      "cell_type": "code",
      "source": [],
      "metadata": {
        "id": "p71gEq23H3Ye"
      },
      "execution_count": null,
      "outputs": []
    },
    {
      "cell_type": "markdown",
      "source": [
        "# this is cell\n"
      ],
      "metadata": {
        "id": "AAaCN3lpIdNS"
      }
    },
    {
      "cell_type": "code",
      "source": [],
      "metadata": {
        "id": "0zP_ksriIeKr"
      },
      "execution_count": null,
      "outputs": []
    },
    {
      "cell_type": "markdown",
      "source": [
        "heading"
      ],
      "metadata": {
        "id": "vohj1K8jIhJX"
      }
    },
    {
      "cell_type": "code",
      "source": [],
      "metadata": {
        "id": "hWK0K7rwIhwQ"
      },
      "execution_count": null,
      "outputs": []
    },
    {
      "cell_type": "markdown",
      "source": [
        "- this\n",
        "- is\n",
        "- cell"
      ],
      "metadata": {
        "id": "S_vm94PXIiJ6"
      }
    },
    {
      "cell_type": "code",
      "source": [],
      "metadata": {
        "id": "nvIFmtl-Il_R"
      },
      "execution_count": null,
      "outputs": []
    }
  ]
}